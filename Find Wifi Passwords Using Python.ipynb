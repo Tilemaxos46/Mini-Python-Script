{
 "cells": [
  {
   "cell_type": "code",
   "execution_count": null,
   "id": "c4a96d89",
   "metadata": {},
   "outputs": [
    {
     "name": "stdout",
     "output_type": "stream",
     "text": [
      "Smart Home CL                 |  SmartH0m3\n",
      "Astra Zeneca Chip #4691122 5G |  ieee@2020\n",
      "Cleopatra's Home              |  cleo@2020\n"
     ]
    }
   ],
   "source": [
    "# Importing the Suboprocess module\n",
    "import subprocess\n",
    "# running command\n",
    "command = subprocess.check_output(['netsh', 'wlan', 'show', 'profiles']).decode('utf-8').split('\\n')\n",
    "profiles = [i.split(\":\")[1][1:-1] for i in command if \"All User Profile\" in i]\n",
    "for i in profiles:\n",
    "    results = subprocess.check_output(['netsh', 'wlan', 'show', 'profile', i, 'key=clear']).decode('utf-8').split('\\n')\n",
    "    results = [b.split(\":\")[1][1:-1] for b in results if \"Key Content\" in b]\n",
    "    try:\n",
    "        print (\"{:<30}|  {:<}\".format(i, results[0]))\n",
    "    except IndexError:\n",
    "        print (\"{:<30}|  {:<}\".format(i, \"\"))\n",
    "input(\"\")"
   ]
  },
  {
   "cell_type": "code",
   "execution_count": null,
   "id": "3ce61ce2",
   "metadata": {},
   "outputs": [],
   "source": [
    "#from https://codewithcurious.com/projects/find-wifi-passwords-using-python/"
   ]
  },
  {
   "cell_type": "code",
   "execution_count": null,
   "id": "d73b683a",
   "metadata": {},
   "outputs": [],
   "source": []
  }
 ],
 "metadata": {
  "kernelspec": {
   "display_name": "Python 3 (ipykernel)",
   "language": "python",
   "name": "python3"
  },
  "language_info": {
   "codemirror_mode": {
    "name": "ipython",
    "version": 3
   },
   "file_extension": ".py",
   "mimetype": "text/x-python",
   "name": "python",
   "nbconvert_exporter": "python",
   "pygments_lexer": "ipython3",
   "version": "3.10.8"
  }
 },
 "nbformat": 4,
 "nbformat_minor": 5
}
