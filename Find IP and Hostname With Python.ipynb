{
 "cells": [
  {
   "cell_type": "code",
   "execution_count": 1,
   "id": "49c5070a",
   "metadata": {},
   "outputs": [
    {
     "name": "stdout",
     "output_type": "stream",
     "text": [
      "Your Computer Name is:DESKTOP-LICAAGS\n",
      "Your Computer IP Address is:192.168.46.3\n"
     ]
    }
   ],
   "source": [
    "import socket   \n",
    "hostname=socket.gethostname()   \n",
    "IPAddr=socket.gethostbyname(hostname)   \n",
    "print(\"Your Computer Name is:\"+hostname)   \n",
    "print(\"Your Computer IP Address is:\"+IPAddr) "
   ]
  },
  {
   "cell_type": "code",
   "execution_count": null,
   "id": "9f3b1471",
   "metadata": {},
   "outputs": [],
   "source": []
  }
 ],
 "metadata": {
  "kernelspec": {
   "display_name": "Python 3 (ipykernel)",
   "language": "python",
   "name": "python3"
  },
  "language_info": {
   "codemirror_mode": {
    "name": "ipython",
    "version": 3
   },
   "file_extension": ".py",
   "mimetype": "text/x-python",
   "name": "python",
   "nbconvert_exporter": "python",
   "pygments_lexer": "ipython3",
   "version": "3.10.8"
  }
 },
 "nbformat": 4,
 "nbformat_minor": 5
}
